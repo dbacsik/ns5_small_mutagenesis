{
 "cells": [
  {
   "cell_type": "markdown",
   "metadata": {},
   "source": [
    "### Enrichment calculation function\n",
    "\n",
    "To calculate enrichment, I will follow some of the general principals used to calculate [DMS differential selection](https://jbloomlab.github.io/dms_tools2/diffsel.html#formula-for-differential-selection).\n",
    "\n",
    "Conceptually, I am calculating the ratio of codon frequency in the selected condition compared to codon frequency in the reference condition. I add a pseudocount to accomodate missing codons in one of the two conditions. I take the log2 of the ratio.\n",
    "\n",
    "**I am not normalizing codon frequency to the WT codon**, because I want to detect and display strong enrichment of the WT codon in the selected condition.\n",
    "\n",
    "```Enrichment = log2( ((codon_count_selected + pseudocount) / (total_codon_count_selected)) /  \n",
    "                   ((codon_count_reference + pseudocount) / (total_codon_count_reference)) )```"
   ]
  },
  {
   "cell_type": "code",
   "execution_count": 1,
   "metadata": {},
   "outputs": [],
   "source": [
    "import pandas as pd\n",
    "import numpy as np"
   ]
  },
  {
   "cell_type": "code",
   "execution_count": 2,
   "metadata": {},
   "outputs": [],
   "source": [
    "def calculate_enrichment(input_df,\n",
    "                         site,\n",
    "                         wildtype_AA,\n",
    "                         selected_sample,\n",
    "                         reference_sample,\n",
    "                         pseudocount=0.1):\n",
    "    assert selected_sample in input_df['name'].unique(), \\\n",
    "        f\"{selected_sample} not in input dataframe\"\n",
    "    assert reference_sample in input_df['name'].unique(), \\\n",
    "        f\"{reference_sample} not in input dataframe\"\n",
    "    selected_freqs = (input_df\n",
    "                      .query(f'name == \"{selected_sample}\" and '\n",
    "                             f'site == {site}')\n",
    "                      [['codon', 'wildtype', 'letter', 'count']])\n",
    "    selected_freqs['count_pseudo'] = selected_freqs['count'] + pseudocount\n",
    "    selected_wt = float(selected_freqs.query(f'letter == \"{wildtype_AA}\"')['count_pseudo'])\n",
    "    \n",
    "    reference_freqs = (input_df\n",
    "                       .query(f'name == \"{reference_sample}\" and '\n",
    "                              f'site == {site}')\n",
    "                       [['codon', 'wildtype', 'letter', 'count']])\n",
    "    reference_freqs['count_pseudo'] = reference_freqs['count'] + pseudocount\n",
    "    reference_wt = float(reference_freqs.query(f'letter == \"{wildtype_AA}\"')['count_pseudo'])\n",
    "    \n",
    "    enrichment_df = pd.merge(\n",
    "        left=selected_freqs,\n",
    "        right=reference_freqs,\n",
    "        on=['codon', 'letter'],\n",
    "        how='outer',\n",
    "        validate='one_to_one',\n",
    "        suffixes=['_selected','_reference'])\n",
    "    enrichment_df['count_pseudo_selected'] = (enrichment_df['count_pseudo_selected']\n",
    "                                              .fillna(pseudocount))\n",
    "    enrichment_df['count_pseudo_reference'] = (enrichment_df['count_pseudo_reference']\n",
    "                                              .fillna(pseudocount))\n",
    "    \n",
    "    enrichment_df['enrichment'] = (\n",
    "        np.log2((enrichment_df['count_pseudo_selected'] / selected_wt) /\n",
    "                (enrichment_df['count_pseudo_reference'] / reference_wt)))\n",
    "    \n",
    "    return(enrichment_df)"
   ]
  }
 ],
 "metadata": {
  "kernelspec": {
   "display_name": "Python 3",
   "language": "python",
   "name": "python3"
  },
  "language_info": {
   "codemirror_mode": {
    "name": "ipython",
    "version": 3
   },
   "file_extension": ".py",
   "mimetype": "text/x-python",
   "name": "python",
   "nbconvert_exporter": "python",
   "pygments_lexer": "ipython3",
   "version": "3.7.8"
  }
 },
 "nbformat": 4,
 "nbformat_minor": 4
}
