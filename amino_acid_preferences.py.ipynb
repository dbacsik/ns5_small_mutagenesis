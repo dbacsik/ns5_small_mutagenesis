{
 "cells": [
  {
   "cell_type": "markdown",
   "metadata": {},
   "source": [
    "# Amino acid preferences\n",
    "This notebook takes codon counts and uses dms_tools2 to calculate the amino acid preferences at mutagenezed sites in the Zika Virus NS5 protein."
   ]
  },
  {
   "cell_type": "markdown",
   "metadata": {},
   "source": [
    "## Notebook setup\n",
    "Imports"
   ]
  },
  {
   "cell_type": "code",
   "execution_count": 1,
   "metadata": {},
   "outputs": [
    {
     "name": "stdout",
     "output_type": "stream",
     "text": [
      "dms_tools2==2.6.8\n",
      "numpy==1.19.1\n",
      "pandas==0.25.3\n",
      "plotnine==0.6.0\n",
      "regex==2.5.83\n"
     ]
    }
   ],
   "source": [
    "import dms_tools2\n",
    "import numpy as np\n",
    "import os\n",
    "import pandas as pd\n",
    "import plotnine as p9\n",
    "import regex\n",
    "from Bio import SeqIO\n",
    "from dms_tools2.ipython_utils import showPDF\n",
    "\n",
    "# print imports and versions\n",
    "# copied from https://stackoverflow.com/questions/40428931/package-for-listing-version-of-packages-used-in-a-jupyter-notebook\n",
    "print('\\n'.join(f'{m.__name__}=={m.__version__}' \\\n",
    "                for m in globals().values() if getattr(m, '__version__', None)))"
   ]
  },
  {
   "cell_type": "markdown",
   "metadata": {},
   "source": [
    "Input data"
   ]
  },
  {
   "cell_type": "code",
   "execution_count": 2,
   "metadata": {},
   "outputs": [],
   "source": [
    "samplesheet = 'data/samplesheet.csv'\n",
    "codon_counts_dir = 'results/codon_counts/'"
   ]
  },
  {
   "cell_type": "markdown",
   "metadata": {},
   "source": [
    "Output data"
   ]
  },
  {
   "cell_type": "code",
   "execution_count": 3,
   "metadata": {},
   "outputs": [],
   "source": [
    "results_dir = 'results/'"
   ]
  },
  {
   "cell_type": "markdown",
   "metadata": {},
   "source": [
    "Analysis parameters"
   ]
  },
  {
   "cell_type": "code",
   "execution_count": null,
   "metadata": {},
   "outputs": [],
   "source": []
  },
  {
   "cell_type": "markdown",
   "metadata": {},
   "source": [
    "Notebook aesthetics"
   ]
  },
  {
   "cell_type": "code",
   "execution_count": 4,
   "metadata": {},
   "outputs": [],
   "source": [
    "p9.theme_set(p9.theme_classic())\n",
    "CBPALETTE_RICH = ['#648FFF', '#FFB000', '#DC267F', '#785EF0', '#FE6100']"
   ]
  },
  {
   "cell_type": "code",
   "execution_count": null,
   "metadata": {},
   "outputs": [],
   "source": []
  },
  {
   "cell_type": "markdown",
   "metadata": {},
   "source": [
    "## Load data\n",
    "Load samples"
   ]
  },
  {
   "cell_type": "code",
   "execution_count": 5,
   "metadata": {},
   "outputs": [
    {
     "data": {
      "text/html": [
       "<div>\n",
       "<style scoped>\n",
       "    .dataframe tbody tr th:only-of-type {\n",
       "        vertical-align: middle;\n",
       "    }\n",
       "\n",
       "    .dataframe tbody tr th {\n",
       "        vertical-align: top;\n",
       "    }\n",
       "\n",
       "    .dataframe thead th {\n",
       "        text-align: right;\n",
       "    }\n",
       "</style>\n",
       "<table border=\"1\" class=\"dataframe\">\n",
       "  <thead>\n",
       "    <tr style=\"text-align: right;\">\n",
       "      <th></th>\n",
       "      <th>name</th>\n",
       "      <th>library</th>\n",
       "      <th>source</th>\n",
       "      <th>stage</th>\n",
       "      <th>sorted</th>\n",
       "    </tr>\n",
       "  </thead>\n",
       "  <tbody>\n",
       "    <tr>\n",
       "      <th>0</th>\n",
       "      <td>wt-plasmid-noStage-notSorted</td>\n",
       "      <td>wt</td>\n",
       "      <td>plasmid</td>\n",
       "      <td>noStage</td>\n",
       "      <td>notSorted</td>\n",
       "    </tr>\n",
       "    <tr>\n",
       "      <th>1</th>\n",
       "      <td>wt-gDNA-noStage-notSorted</td>\n",
       "      <td>wt</td>\n",
       "      <td>gDNA</td>\n",
       "      <td>noStage</td>\n",
       "      <td>notSorted</td>\n",
       "    </tr>\n",
       "    <tr>\n",
       "      <th>2</th>\n",
       "      <td>lib1-plasmid-noStage-notSorted</td>\n",
       "      <td>lib1</td>\n",
       "      <td>plasmid</td>\n",
       "      <td>noStage</td>\n",
       "      <td>notSorted</td>\n",
       "    </tr>\n",
       "    <tr>\n",
       "      <th>3</th>\n",
       "      <td>lib2-plasmid-noStage-notSorted</td>\n",
       "      <td>lib2</td>\n",
       "      <td>plasmid</td>\n",
       "      <td>noStage</td>\n",
       "      <td>notSorted</td>\n",
       "    </tr>\n",
       "    <tr>\n",
       "      <th>4</th>\n",
       "      <td>lib3-plasmid-noStage-notSorted</td>\n",
       "      <td>lib3</td>\n",
       "      <td>plasmid</td>\n",
       "      <td>noStage</td>\n",
       "      <td>notSorted</td>\n",
       "    </tr>\n",
       "    <tr>\n",
       "      <th>5</th>\n",
       "      <td>lib1-gDNA-early-notSorted</td>\n",
       "      <td>lib1</td>\n",
       "      <td>gDNA</td>\n",
       "      <td>early</td>\n",
       "      <td>notSorted</td>\n",
       "    </tr>\n",
       "    <tr>\n",
       "      <th>6</th>\n",
       "      <td>lib2-gDNA-early-notSorted</td>\n",
       "      <td>lib2</td>\n",
       "      <td>gDNA</td>\n",
       "      <td>early</td>\n",
       "      <td>notSorted</td>\n",
       "    </tr>\n",
       "    <tr>\n",
       "      <th>7</th>\n",
       "      <td>lib3-gDNA-early-notSorted</td>\n",
       "      <td>lib3</td>\n",
       "      <td>gDNA</td>\n",
       "      <td>early</td>\n",
       "      <td>notSorted</td>\n",
       "    </tr>\n",
       "    <tr>\n",
       "      <th>8</th>\n",
       "      <td>lib1-gDNA-mid-notSorted</td>\n",
       "      <td>lib1</td>\n",
       "      <td>gDNA</td>\n",
       "      <td>mid</td>\n",
       "      <td>notSorted</td>\n",
       "    </tr>\n",
       "    <tr>\n",
       "      <th>9</th>\n",
       "      <td>lib2-gDNA-mid-notSorted</td>\n",
       "      <td>lib2</td>\n",
       "      <td>gDNA</td>\n",
       "      <td>mid</td>\n",
       "      <td>notSorted</td>\n",
       "    </tr>\n",
       "    <tr>\n",
       "      <th>10</th>\n",
       "      <td>lib3-gDNA-mid-notSorted</td>\n",
       "      <td>lib3</td>\n",
       "      <td>gDNA</td>\n",
       "      <td>mid</td>\n",
       "      <td>notSorted</td>\n",
       "    </tr>\n",
       "    <tr>\n",
       "      <th>11</th>\n",
       "      <td>lib1-gDNA-late-notSorted</td>\n",
       "      <td>lib1</td>\n",
       "      <td>gDNA</td>\n",
       "      <td>late</td>\n",
       "      <td>notSorted</td>\n",
       "    </tr>\n",
       "    <tr>\n",
       "      <th>12</th>\n",
       "      <td>lib2-gDNA-late-notSorted</td>\n",
       "      <td>lib2</td>\n",
       "      <td>gDNA</td>\n",
       "      <td>late</td>\n",
       "      <td>notSorted</td>\n",
       "    </tr>\n",
       "    <tr>\n",
       "      <th>13</th>\n",
       "      <td>lib3-gDNA-late-notSorted</td>\n",
       "      <td>lib3</td>\n",
       "      <td>gDNA</td>\n",
       "      <td>late</td>\n",
       "      <td>notSorted</td>\n",
       "    </tr>\n",
       "    <tr>\n",
       "      <th>14</th>\n",
       "      <td>lib1-gDNA-late-sorted</td>\n",
       "      <td>lib1</td>\n",
       "      <td>gDNA</td>\n",
       "      <td>late</td>\n",
       "      <td>sorted</td>\n",
       "    </tr>\n",
       "    <tr>\n",
       "      <th>15</th>\n",
       "      <td>lib2-gDNA-late-sorted</td>\n",
       "      <td>lib2</td>\n",
       "      <td>gDNA</td>\n",
       "      <td>late</td>\n",
       "      <td>sorted</td>\n",
       "    </tr>\n",
       "    <tr>\n",
       "      <th>16</th>\n",
       "      <td>lib3-gDNA-late-sorted</td>\n",
       "      <td>lib3</td>\n",
       "      <td>gDNA</td>\n",
       "      <td>late</td>\n",
       "      <td>sorted</td>\n",
       "    </tr>\n",
       "  </tbody>\n",
       "</table>\n",
       "</div>"
      ],
      "text/plain": [
       "                              name library   source    stage     sorted\n",
       "0     wt-plasmid-noStage-notSorted      wt  plasmid  noStage  notSorted\n",
       "1        wt-gDNA-noStage-notSorted      wt     gDNA  noStage  notSorted\n",
       "2   lib1-plasmid-noStage-notSorted    lib1  plasmid  noStage  notSorted\n",
       "3   lib2-plasmid-noStage-notSorted    lib2  plasmid  noStage  notSorted\n",
       "4   lib3-plasmid-noStage-notSorted    lib3  plasmid  noStage  notSorted\n",
       "5        lib1-gDNA-early-notSorted    lib1     gDNA    early  notSorted\n",
       "6        lib2-gDNA-early-notSorted    lib2     gDNA    early  notSorted\n",
       "7        lib3-gDNA-early-notSorted    lib3     gDNA    early  notSorted\n",
       "8          lib1-gDNA-mid-notSorted    lib1     gDNA      mid  notSorted\n",
       "9          lib2-gDNA-mid-notSorted    lib2     gDNA      mid  notSorted\n",
       "10         lib3-gDNA-mid-notSorted    lib3     gDNA      mid  notSorted\n",
       "11        lib1-gDNA-late-notSorted    lib1     gDNA     late  notSorted\n",
       "12        lib2-gDNA-late-notSorted    lib2     gDNA     late  notSorted\n",
       "13        lib3-gDNA-late-notSorted    lib3     gDNA     late  notSorted\n",
       "14           lib1-gDNA-late-sorted    lib1     gDNA     late     sorted\n",
       "15           lib2-gDNA-late-sorted    lib2     gDNA     late     sorted\n",
       "16           lib3-gDNA-late-sorted    lib3     gDNA     late     sorted"
      ]
     },
     "metadata": {},
     "output_type": "display_data"
    }
   ],
   "source": [
    "samples = pd.read_csv(samplesheet)\n",
    "samples = samples.drop('r1_file', axis=1)\n",
    "samples.insert(0, 'name', (samples['library'] + '-' +\n",
    "                           samples['source'] + '-' +\n",
    "                           samples['stage'] + '-' +\n",
    "                           samples['sorted']))\n",
    "display(samples)"
   ]
  },
  {
   "cell_type": "markdown",
   "metadata": {},
   "source": [
    "# Calculate amino acid preferences\n",
    "Calculate the [amino acid preferences](https://jbloomlab.github.io/dms_tools2/prefs.html) of the sites on each mutagenized gDNA sample."
   ]
  },
  {
   "cell_type": "markdown",
   "metadata": {},
   "source": [
    "Setup:"
   ]
  },
  {
   "cell_type": "code",
   "execution_count": 6,
   "metadata": {},
   "outputs": [
    {
     "data": {
      "text/html": [
       "<div>\n",
       "<style scoped>\n",
       "    .dataframe tbody tr th:only-of-type {\n",
       "        vertical-align: middle;\n",
       "    }\n",
       "\n",
       "    .dataframe tbody tr th {\n",
       "        vertical-align: top;\n",
       "    }\n",
       "\n",
       "    .dataframe thead th {\n",
       "        text-align: right;\n",
       "    }\n",
       "</style>\n",
       "<table border=\"1\" class=\"dataframe\">\n",
       "  <thead>\n",
       "    <tr style=\"text-align: right;\">\n",
       "      <th></th>\n",
       "      <th>name</th>\n",
       "      <th>source</th>\n",
       "      <th>library</th>\n",
       "      <th>stage</th>\n",
       "      <th>sorted</th>\n",
       "      <th>pre</th>\n",
       "      <th>post</th>\n",
       "      <th>errpre</th>\n",
       "      <th>errpost</th>\n",
       "    </tr>\n",
       "  </thead>\n",
       "  <tbody>\n",
       "    <tr>\n",
       "      <th>0</th>\n",
       "      <td>lib1-gDNA-early-notSorted</td>\n",
       "      <td>gDNA</td>\n",
       "      <td>lib1</td>\n",
       "      <td>early</td>\n",
       "      <td>notSorted</td>\n",
       "      <td>lib1-plasmid-noStage-notSorted</td>\n",
       "      <td>lib1-gDNA-early-notSorted</td>\n",
       "      <td>wt-plasmid-noStage-notSorted</td>\n",
       "      <td>wt-gDNA-noStage-notSorted</td>\n",
       "    </tr>\n",
       "    <tr>\n",
       "      <th>1</th>\n",
       "      <td>lib2-gDNA-early-notSorted</td>\n",
       "      <td>gDNA</td>\n",
       "      <td>lib2</td>\n",
       "      <td>early</td>\n",
       "      <td>notSorted</td>\n",
       "      <td>lib2-plasmid-noStage-notSorted</td>\n",
       "      <td>lib2-gDNA-early-notSorted</td>\n",
       "      <td>wt-plasmid-noStage-notSorted</td>\n",
       "      <td>wt-gDNA-noStage-notSorted</td>\n",
       "    </tr>\n",
       "    <tr>\n",
       "      <th>2</th>\n",
       "      <td>lib3-gDNA-early-notSorted</td>\n",
       "      <td>gDNA</td>\n",
       "      <td>lib3</td>\n",
       "      <td>early</td>\n",
       "      <td>notSorted</td>\n",
       "      <td>lib3-plasmid-noStage-notSorted</td>\n",
       "      <td>lib3-gDNA-early-notSorted</td>\n",
       "      <td>wt-plasmid-noStage-notSorted</td>\n",
       "      <td>wt-gDNA-noStage-notSorted</td>\n",
       "    </tr>\n",
       "  </tbody>\n",
       "</table>\n",
       "</div>"
      ],
      "text/plain": [
       "                        name source library  stage     sorted  \\\n",
       "0  lib1-gDNA-early-notSorted   gDNA    lib1  early  notSorted   \n",
       "1  lib2-gDNA-early-notSorted   gDNA    lib2  early  notSorted   \n",
       "2  lib3-gDNA-early-notSorted   gDNA    lib3  early  notSorted   \n",
       "\n",
       "                              pre                       post  \\\n",
       "0  lib1-plasmid-noStage-notSorted  lib1-gDNA-early-notSorted   \n",
       "1  lib2-plasmid-noStage-notSorted  lib2-gDNA-early-notSorted   \n",
       "2  lib3-plasmid-noStage-notSorted  lib3-gDNA-early-notSorted   \n",
       "\n",
       "                         errpre                    errpost  \n",
       "0  wt-plasmid-noStage-notSorted  wt-gDNA-noStage-notSorted  \n",
       "1  wt-plasmid-noStage-notSorted  wt-gDNA-noStage-notSorted  \n",
       "2  wt-plasmid-noStage-notSorted  wt-gDNA-noStage-notSorted  "
      ]
     },
     "metadata": {},
     "output_type": "display_data"
    },
    {
     "name": "stdout",
     "output_type": "stream",
     "text": [
      "Writing batchfile to results/prefs/early_notSorted_batchfile.csv\n",
      "Done.\n",
      "['INFO:dms2_batch_prefs:Beginning execution of dms2_batch_prefs in directory /fh/fast/bloom_j/computational_notebooks/dbacsik/2022/ns5_small_mutagenesis', '', 'INFO:dms2_batch_prefs:Progress is being logged to results/prefs/early-notSorted-summary.log', 'INFO:dms2_batch_prefs:Version information:', '\\tTime and date: Tue Jan 25 09:48:18 2022', '\\tPlatform: Linux-4.15.0-88-generic-x86_64-with-debian-buster-sid', '\\tPython version: 3.7.8 | packaged by conda-forge | (default, Jul 31 2020, 02:25:08)  [GCC 7.5.0]', '\\tdms_tools2 version: 2.6.8', '\\tBio version: 1.77', '\\tpandas version: 0.25.3', '\\tnumpy version: 1.19.1', '\\tIPython version: 7.18.1', '\\tjupyter version: 1.0.0', '\\tmatplotlib version: 3.2.2', '\\tplotnine version: 0.6.0', '\\tnatsort version: 7.0.1', '\\tpystan version: 2.19.1.1', '\\tscipy version: 1.5.2', '\\tseaborn version: 0.10.1', '\\tphydmslib version: 2.4.1', '\\tstatsmodels version: 0.12.0', '\\trpy2 cannot be imported', '\\tregex version: 2.5.83', '\\tumi_tools version: 1.0.1', '', 'INFO:dms2_batch_prefs:Parsed the following arguments:', '\\toutdir = results/prefs', '\\tncpus = 16', '\\tuse_existing = no', '\\tmethod = ratio', '\\tindir = results/codon_counts/', '\\tchartype = codon_to_aa', '\\texcludestop = no', '\\tconc = [1, 1, 1]', '\\tpseudocount = 1', '\\tbatchfile = results/prefs/early_notSorted_batchfile.csv', '\\tsummaryprefix = early-notSorted-summary', '\\tno_corr = False', '\\tno_avg = False', '', 'INFO:dms2_batch_prefs:Parsing info from results/prefs/early_notSorted_batchfile.csv', 'INFO:dms2_batch_prefs:Read the following sample information:', 'name,source,library,stage,sorted,pre,post,errpre,errpost', 'lib1-gDNA-early-notSorted,gDNA,lib1,early,notSorted,lib1-plasmid-noStage-notSorted,lib1-gDNA-early-notSorted,wt-plasmid-noStage-notSorted,wt-gDNA-noStage-notSorted', 'lib2-gDNA-early-notSorted,gDNA,lib2,early,notSorted,lib2-plasmid-noStage-notSorted,lib2-gDNA-early-notSorted,wt-plasmid-noStage-notSorted,wt-gDNA-noStage-notSorted', 'lib3-gDNA-early-notSorted,gDNA,lib3,early,notSorted,lib3-plasmid-noStage-notSorted,lib3-gDNA-early-notSorted,wt-plasmid-noStage-notSorted,wt-gDNA-noStage-notSorted', '', '', 'INFO:dms2_batch_prefs:Running dms2_prefs on all samples...', 'INFO:dms2_batch_prefs:Completed runs of dms2_prefs.', '', 'INFO:dms2_batch_prefs:Plotting correlations to results/prefs/early-notSorted-summary_prefscorr.pdf', '', '/fh/fast/bloom_j/software/miniconda3/envs/dms_tools2/lib/python3.7/site-packages/seaborn/axisgrid.py:1342: UserWarning: tight_layout: falling back to Agg renderer', '  fig.tight_layout(pad=layout_pad)', 'INFO:dms2_batch_prefs:Writing average preferences to results/prefs/early-notSorted-summary_avgprefs.csv', '', 'INFO:dms2_batch_prefs:Successful completion of dms2_batch_prefs']\n",
      "Amino-acid preferences calculated for early notSorted samples.\n"
     ]
    },
    {
     "data": {
      "text/html": [
       "<div>\n",
       "<style scoped>\n",
       "    .dataframe tbody tr th:only-of-type {\n",
       "        vertical-align: middle;\n",
       "    }\n",
       "\n",
       "    .dataframe tbody tr th {\n",
       "        vertical-align: top;\n",
       "    }\n",
       "\n",
       "    .dataframe thead th {\n",
       "        text-align: right;\n",
       "    }\n",
       "</style>\n",
       "<table border=\"1\" class=\"dataframe\">\n",
       "  <thead>\n",
       "    <tr style=\"text-align: right;\">\n",
       "      <th></th>\n",
       "      <th>name</th>\n",
       "      <th>source</th>\n",
       "      <th>library</th>\n",
       "      <th>stage</th>\n",
       "      <th>sorted</th>\n",
       "      <th>pre</th>\n",
       "      <th>post</th>\n",
       "      <th>errpre</th>\n",
       "      <th>errpost</th>\n",
       "    </tr>\n",
       "  </thead>\n",
       "  <tbody>\n",
       "    <tr>\n",
       "      <th>0</th>\n",
       "      <td>lib1-gDNA-mid-notSorted</td>\n",
       "      <td>gDNA</td>\n",
       "      <td>lib1</td>\n",
       "      <td>mid</td>\n",
       "      <td>notSorted</td>\n",
       "      <td>lib1-plasmid-noStage-notSorted</td>\n",
       "      <td>lib1-gDNA-mid-notSorted</td>\n",
       "      <td>wt-plasmid-noStage-notSorted</td>\n",
       "      <td>wt-gDNA-noStage-notSorted</td>\n",
       "    </tr>\n",
       "    <tr>\n",
       "      <th>1</th>\n",
       "      <td>lib2-gDNA-mid-notSorted</td>\n",
       "      <td>gDNA</td>\n",
       "      <td>lib2</td>\n",
       "      <td>mid</td>\n",
       "      <td>notSorted</td>\n",
       "      <td>lib2-plasmid-noStage-notSorted</td>\n",
       "      <td>lib2-gDNA-mid-notSorted</td>\n",
       "      <td>wt-plasmid-noStage-notSorted</td>\n",
       "      <td>wt-gDNA-noStage-notSorted</td>\n",
       "    </tr>\n",
       "    <tr>\n",
       "      <th>2</th>\n",
       "      <td>lib3-gDNA-mid-notSorted</td>\n",
       "      <td>gDNA</td>\n",
       "      <td>lib3</td>\n",
       "      <td>mid</td>\n",
       "      <td>notSorted</td>\n",
       "      <td>lib3-plasmid-noStage-notSorted</td>\n",
       "      <td>lib3-gDNA-mid-notSorted</td>\n",
       "      <td>wt-plasmid-noStage-notSorted</td>\n",
       "      <td>wt-gDNA-noStage-notSorted</td>\n",
       "    </tr>\n",
       "  </tbody>\n",
       "</table>\n",
       "</div>"
      ],
      "text/plain": [
       "                      name source library stage     sorted  \\\n",
       "0  lib1-gDNA-mid-notSorted   gDNA    lib1   mid  notSorted   \n",
       "1  lib2-gDNA-mid-notSorted   gDNA    lib2   mid  notSorted   \n",
       "2  lib3-gDNA-mid-notSorted   gDNA    lib3   mid  notSorted   \n",
       "\n",
       "                              pre                     post  \\\n",
       "0  lib1-plasmid-noStage-notSorted  lib1-gDNA-mid-notSorted   \n",
       "1  lib2-plasmid-noStage-notSorted  lib2-gDNA-mid-notSorted   \n",
       "2  lib3-plasmid-noStage-notSorted  lib3-gDNA-mid-notSorted   \n",
       "\n",
       "                         errpre                    errpost  \n",
       "0  wt-plasmid-noStage-notSorted  wt-gDNA-noStage-notSorted  \n",
       "1  wt-plasmid-noStage-notSorted  wt-gDNA-noStage-notSorted  \n",
       "2  wt-plasmid-noStage-notSorted  wt-gDNA-noStage-notSorted  "
      ]
     },
     "metadata": {},
     "output_type": "display_data"
    },
    {
     "name": "stdout",
     "output_type": "stream",
     "text": [
      "Writing batchfile to results/prefs/mid_notSorted_batchfile.csv\n",
      "Done.\n",
      "['INFO:dms2_batch_prefs:Beginning execution of dms2_batch_prefs in directory /fh/fast/bloom_j/computational_notebooks/dbacsik/2022/ns5_small_mutagenesis', '', 'INFO:dms2_batch_prefs:Progress is being logged to results/prefs/mid-notSorted-summary.log', 'INFO:dms2_batch_prefs:Version information:', '\\tTime and date: Tue Jan 25 09:48:31 2022', '\\tPlatform: Linux-4.15.0-88-generic-x86_64-with-debian-buster-sid', '\\tPython version: 3.7.8 | packaged by conda-forge | (default, Jul 31 2020, 02:25:08)  [GCC 7.5.0]', '\\tdms_tools2 version: 2.6.8', '\\tBio version: 1.77', '\\tpandas version: 0.25.3', '\\tnumpy version: 1.19.1', '\\tIPython version: 7.18.1', '\\tjupyter version: 1.0.0', '\\tmatplotlib version: 3.2.2', '\\tplotnine version: 0.6.0', '\\tnatsort version: 7.0.1', '\\tpystan version: 2.19.1.1', '\\tscipy version: 1.5.2', '\\tseaborn version: 0.10.1', '\\tphydmslib version: 2.4.1', '\\tstatsmodels version: 0.12.0', '\\trpy2 cannot be imported', '\\tregex version: 2.5.83', '\\tumi_tools version: 1.0.1', '', 'INFO:dms2_batch_prefs:Parsed the following arguments:', '\\toutdir = results/prefs', '\\tncpus = 16', '\\tuse_existing = no', '\\tmethod = ratio', '\\tindir = results/codon_counts/', '\\tchartype = codon_to_aa', '\\texcludestop = no', '\\tconc = [1, 1, 1]', '\\tpseudocount = 1', '\\tbatchfile = results/prefs/mid_notSorted_batchfile.csv', '\\tsummaryprefix = mid-notSorted-summary', '\\tno_corr = False', '\\tno_avg = False', '', 'INFO:dms2_batch_prefs:Parsing info from results/prefs/mid_notSorted_batchfile.csv', 'INFO:dms2_batch_prefs:Read the following sample information:', 'name,source,library,stage,sorted,pre,post,errpre,errpost', 'lib1-gDNA-mid-notSorted,gDNA,lib1,mid,notSorted,lib1-plasmid-noStage-notSorted,lib1-gDNA-mid-notSorted,wt-plasmid-noStage-notSorted,wt-gDNA-noStage-notSorted', 'lib2-gDNA-mid-notSorted,gDNA,lib2,mid,notSorted,lib2-plasmid-noStage-notSorted,lib2-gDNA-mid-notSorted,wt-plasmid-noStage-notSorted,wt-gDNA-noStage-notSorted', 'lib3-gDNA-mid-notSorted,gDNA,lib3,mid,notSorted,lib3-plasmid-noStage-notSorted,lib3-gDNA-mid-notSorted,wt-plasmid-noStage-notSorted,wt-gDNA-noStage-notSorted', '', '', 'INFO:dms2_batch_prefs:Running dms2_prefs on all samples...', 'INFO:dms2_batch_prefs:Completed runs of dms2_prefs.', '', 'INFO:dms2_batch_prefs:Plotting correlations to results/prefs/mid-notSorted-summary_prefscorr.pdf', '', '/fh/fast/bloom_j/software/miniconda3/envs/dms_tools2/lib/python3.7/site-packages/seaborn/axisgrid.py:1342: UserWarning: tight_layout: falling back to Agg renderer', '  fig.tight_layout(pad=layout_pad)', 'INFO:dms2_batch_prefs:Writing average preferences to results/prefs/mid-notSorted-summary_avgprefs.csv', '', 'INFO:dms2_batch_prefs:Successful completion of dms2_batch_prefs']\n",
      "Amino-acid preferences calculated for mid notSorted samples.\n"
     ]
    },
    {
     "data": {
      "text/html": [
       "<div>\n",
       "<style scoped>\n",
       "    .dataframe tbody tr th:only-of-type {\n",
       "        vertical-align: middle;\n",
       "    }\n",
       "\n",
       "    .dataframe tbody tr th {\n",
       "        vertical-align: top;\n",
       "    }\n",
       "\n",
       "    .dataframe thead th {\n",
       "        text-align: right;\n",
       "    }\n",
       "</style>\n",
       "<table border=\"1\" class=\"dataframe\">\n",
       "  <thead>\n",
       "    <tr style=\"text-align: right;\">\n",
       "      <th></th>\n",
       "      <th>name</th>\n",
       "      <th>source</th>\n",
       "      <th>library</th>\n",
       "      <th>stage</th>\n",
       "      <th>sorted</th>\n",
       "      <th>pre</th>\n",
       "      <th>post</th>\n",
       "      <th>errpre</th>\n",
       "      <th>errpost</th>\n",
       "    </tr>\n",
       "  </thead>\n",
       "  <tbody>\n",
       "    <tr>\n",
       "      <th>0</th>\n",
       "      <td>lib1-gDNA-late-notSorted</td>\n",
       "      <td>gDNA</td>\n",
       "      <td>lib1</td>\n",
       "      <td>late</td>\n",
       "      <td>notSorted</td>\n",
       "      <td>lib1-plasmid-noStage-notSorted</td>\n",
       "      <td>lib1-gDNA-late-notSorted</td>\n",
       "      <td>wt-plasmid-noStage-notSorted</td>\n",
       "      <td>wt-gDNA-noStage-notSorted</td>\n",
       "    </tr>\n",
       "    <tr>\n",
       "      <th>1</th>\n",
       "      <td>lib2-gDNA-late-notSorted</td>\n",
       "      <td>gDNA</td>\n",
       "      <td>lib2</td>\n",
       "      <td>late</td>\n",
       "      <td>notSorted</td>\n",
       "      <td>lib2-plasmid-noStage-notSorted</td>\n",
       "      <td>lib2-gDNA-late-notSorted</td>\n",
       "      <td>wt-plasmid-noStage-notSorted</td>\n",
       "      <td>wt-gDNA-noStage-notSorted</td>\n",
       "    </tr>\n",
       "    <tr>\n",
       "      <th>2</th>\n",
       "      <td>lib3-gDNA-late-notSorted</td>\n",
       "      <td>gDNA</td>\n",
       "      <td>lib3</td>\n",
       "      <td>late</td>\n",
       "      <td>notSorted</td>\n",
       "      <td>lib3-plasmid-noStage-notSorted</td>\n",
       "      <td>lib3-gDNA-late-notSorted</td>\n",
       "      <td>wt-plasmid-noStage-notSorted</td>\n",
       "      <td>wt-gDNA-noStage-notSorted</td>\n",
       "    </tr>\n",
       "  </tbody>\n",
       "</table>\n",
       "</div>"
      ],
      "text/plain": [
       "                       name source library stage     sorted  \\\n",
       "0  lib1-gDNA-late-notSorted   gDNA    lib1  late  notSorted   \n",
       "1  lib2-gDNA-late-notSorted   gDNA    lib2  late  notSorted   \n",
       "2  lib3-gDNA-late-notSorted   gDNA    lib3  late  notSorted   \n",
       "\n",
       "                              pre                      post  \\\n",
       "0  lib1-plasmid-noStage-notSorted  lib1-gDNA-late-notSorted   \n",
       "1  lib2-plasmid-noStage-notSorted  lib2-gDNA-late-notSorted   \n",
       "2  lib3-plasmid-noStage-notSorted  lib3-gDNA-late-notSorted   \n",
       "\n",
       "                         errpre                    errpost  \n",
       "0  wt-plasmid-noStage-notSorted  wt-gDNA-noStage-notSorted  \n",
       "1  wt-plasmid-noStage-notSorted  wt-gDNA-noStage-notSorted  \n",
       "2  wt-plasmid-noStage-notSorted  wt-gDNA-noStage-notSorted  "
      ]
     },
     "metadata": {},
     "output_type": "display_data"
    },
    {
     "name": "stdout",
     "output_type": "stream",
     "text": [
      "Writing batchfile to results/prefs/late_notSorted_batchfile.csv\n",
      "Done.\n",
      "['INFO:dms2_batch_prefs:Beginning execution of dms2_batch_prefs in directory /fh/fast/bloom_j/computational_notebooks/dbacsik/2022/ns5_small_mutagenesis', '', 'INFO:dms2_batch_prefs:Progress is being logged to results/prefs/late-notSorted-summary.log', 'INFO:dms2_batch_prefs:Version information:', '\\tTime and date: Tue Jan 25 09:48:43 2022', '\\tPlatform: Linux-4.15.0-88-generic-x86_64-with-debian-buster-sid', '\\tPython version: 3.7.8 | packaged by conda-forge | (default, Jul 31 2020, 02:25:08)  [GCC 7.5.0]', '\\tdms_tools2 version: 2.6.8', '\\tBio version: 1.77', '\\tpandas version: 0.25.3', '\\tnumpy version: 1.19.1', '\\tIPython version: 7.18.1', '\\tjupyter version: 1.0.0', '\\tmatplotlib version: 3.2.2', '\\tplotnine version: 0.6.0', '\\tnatsort version: 7.0.1', '\\tpystan version: 2.19.1.1', '\\tscipy version: 1.5.2', '\\tseaborn version: 0.10.1', '\\tphydmslib version: 2.4.1', '\\tstatsmodels version: 0.12.0', '\\trpy2 cannot be imported', '\\tregex version: 2.5.83', '\\tumi_tools version: 1.0.1', '', 'INFO:dms2_batch_prefs:Parsed the following arguments:', '\\toutdir = results/prefs', '\\tncpus = 16', '\\tuse_existing = no', '\\tmethod = ratio', '\\tindir = results/codon_counts/', '\\tchartype = codon_to_aa', '\\texcludestop = no', '\\tconc = [1, 1, 1]', '\\tpseudocount = 1', '\\tbatchfile = results/prefs/late_notSorted_batchfile.csv', '\\tsummaryprefix = late-notSorted-summary', '\\tno_corr = False', '\\tno_avg = False', '', 'INFO:dms2_batch_prefs:Parsing info from results/prefs/late_notSorted_batchfile.csv', 'INFO:dms2_batch_prefs:Read the following sample information:', 'name,source,library,stage,sorted,pre,post,errpre,errpost', 'lib1-gDNA-late-notSorted,gDNA,lib1,late,notSorted,lib1-plasmid-noStage-notSorted,lib1-gDNA-late-notSorted,wt-plasmid-noStage-notSorted,wt-gDNA-noStage-notSorted', 'lib2-gDNA-late-notSorted,gDNA,lib2,late,notSorted,lib2-plasmid-noStage-notSorted,lib2-gDNA-late-notSorted,wt-plasmid-noStage-notSorted,wt-gDNA-noStage-notSorted', 'lib3-gDNA-late-notSorted,gDNA,lib3,late,notSorted,lib3-plasmid-noStage-notSorted,lib3-gDNA-late-notSorted,wt-plasmid-noStage-notSorted,wt-gDNA-noStage-notSorted', '', '', 'INFO:dms2_batch_prefs:Running dms2_prefs on all samples...', 'INFO:dms2_batch_prefs:Completed runs of dms2_prefs.', '', 'INFO:dms2_batch_prefs:Plotting correlations to results/prefs/late-notSorted-summary_prefscorr.pdf', '', '/fh/fast/bloom_j/software/miniconda3/envs/dms_tools2/lib/python3.7/site-packages/seaborn/axisgrid.py:1342: UserWarning: tight_layout: falling back to Agg renderer', '  fig.tight_layout(pad=layout_pad)', 'INFO:dms2_batch_prefs:Writing average preferences to results/prefs/late-notSorted-summary_avgprefs.csv', '', 'INFO:dms2_batch_prefs:Successful completion of dms2_batch_prefs']\n",
      "Amino-acid preferences calculated for late notSorted samples.\n"
     ]
    },
    {
     "data": {
      "text/html": [
       "<div>\n",
       "<style scoped>\n",
       "    .dataframe tbody tr th:only-of-type {\n",
       "        vertical-align: middle;\n",
       "    }\n",
       "\n",
       "    .dataframe tbody tr th {\n",
       "        vertical-align: top;\n",
       "    }\n",
       "\n",
       "    .dataframe thead th {\n",
       "        text-align: right;\n",
       "    }\n",
       "</style>\n",
       "<table border=\"1\" class=\"dataframe\">\n",
       "  <thead>\n",
       "    <tr style=\"text-align: right;\">\n",
       "      <th></th>\n",
       "      <th>name</th>\n",
       "      <th>source</th>\n",
       "      <th>library</th>\n",
       "      <th>stage</th>\n",
       "      <th>sorted</th>\n",
       "      <th>pre</th>\n",
       "      <th>post</th>\n",
       "      <th>errpre</th>\n",
       "      <th>errpost</th>\n",
       "    </tr>\n",
       "  </thead>\n",
       "  <tbody>\n",
       "    <tr>\n",
       "      <th>0</th>\n",
       "      <td>lib1-gDNA-late-sorted</td>\n",
       "      <td>gDNA</td>\n",
       "      <td>lib1</td>\n",
       "      <td>late</td>\n",
       "      <td>sorted</td>\n",
       "      <td>lib1-plasmid-noStage-notSorted</td>\n",
       "      <td>lib1-gDNA-late-sorted</td>\n",
       "      <td>wt-plasmid-noStage-notSorted</td>\n",
       "      <td>wt-gDNA-noStage-notSorted</td>\n",
       "    </tr>\n",
       "    <tr>\n",
       "      <th>1</th>\n",
       "      <td>lib2-gDNA-late-sorted</td>\n",
       "      <td>gDNA</td>\n",
       "      <td>lib2</td>\n",
       "      <td>late</td>\n",
       "      <td>sorted</td>\n",
       "      <td>lib2-plasmid-noStage-notSorted</td>\n",
       "      <td>lib2-gDNA-late-sorted</td>\n",
       "      <td>wt-plasmid-noStage-notSorted</td>\n",
       "      <td>wt-gDNA-noStage-notSorted</td>\n",
       "    </tr>\n",
       "    <tr>\n",
       "      <th>2</th>\n",
       "      <td>lib3-gDNA-late-sorted</td>\n",
       "      <td>gDNA</td>\n",
       "      <td>lib3</td>\n",
       "      <td>late</td>\n",
       "      <td>sorted</td>\n",
       "      <td>lib3-plasmid-noStage-notSorted</td>\n",
       "      <td>lib3-gDNA-late-sorted</td>\n",
       "      <td>wt-plasmid-noStage-notSorted</td>\n",
       "      <td>wt-gDNA-noStage-notSorted</td>\n",
       "    </tr>\n",
       "  </tbody>\n",
       "</table>\n",
       "</div>"
      ],
      "text/plain": [
       "                    name source library stage  sorted  \\\n",
       "0  lib1-gDNA-late-sorted   gDNA    lib1  late  sorted   \n",
       "1  lib2-gDNA-late-sorted   gDNA    lib2  late  sorted   \n",
       "2  lib3-gDNA-late-sorted   gDNA    lib3  late  sorted   \n",
       "\n",
       "                              pre                   post  \\\n",
       "0  lib1-plasmid-noStage-notSorted  lib1-gDNA-late-sorted   \n",
       "1  lib2-plasmid-noStage-notSorted  lib2-gDNA-late-sorted   \n",
       "2  lib3-plasmid-noStage-notSorted  lib3-gDNA-late-sorted   \n",
       "\n",
       "                         errpre                    errpost  \n",
       "0  wt-plasmid-noStage-notSorted  wt-gDNA-noStage-notSorted  \n",
       "1  wt-plasmid-noStage-notSorted  wt-gDNA-noStage-notSorted  \n",
       "2  wt-plasmid-noStage-notSorted  wt-gDNA-noStage-notSorted  "
      ]
     },
     "metadata": {},
     "output_type": "display_data"
    },
    {
     "name": "stdout",
     "output_type": "stream",
     "text": [
      "Writing batchfile to results/prefs/late_sorted_batchfile.csv\n",
      "Done.\n",
      "['INFO:dms2_batch_prefs:Beginning execution of dms2_batch_prefs in directory /fh/fast/bloom_j/computational_notebooks/dbacsik/2022/ns5_small_mutagenesis', '', 'INFO:dms2_batch_prefs:Progress is being logged to results/prefs/late-sorted-summary.log', 'INFO:dms2_batch_prefs:Version information:', '\\tTime and date: Tue Jan 25 09:48:55 2022', '\\tPlatform: Linux-4.15.0-88-generic-x86_64-with-debian-buster-sid', '\\tPython version: 3.7.8 | packaged by conda-forge | (default, Jul 31 2020, 02:25:08)  [GCC 7.5.0]', '\\tdms_tools2 version: 2.6.8', '\\tBio version: 1.77', '\\tpandas version: 0.25.3', '\\tnumpy version: 1.19.1', '\\tIPython version: 7.18.1', '\\tjupyter version: 1.0.0', '\\tmatplotlib version: 3.2.2', '\\tplotnine version: 0.6.0', '\\tnatsort version: 7.0.1', '\\tpystan version: 2.19.1.1', '\\tscipy version: 1.5.2', '\\tseaborn version: 0.10.1', '\\tphydmslib version: 2.4.1', '\\tstatsmodels version: 0.12.0', '\\trpy2 cannot be imported', '\\tregex version: 2.5.83', '\\tumi_tools version: 1.0.1', '', 'INFO:dms2_batch_prefs:Parsed the following arguments:', '\\toutdir = results/prefs', '\\tncpus = 16', '\\tuse_existing = no', '\\tmethod = ratio', '\\tindir = results/codon_counts/', '\\tchartype = codon_to_aa', '\\texcludestop = no', '\\tconc = [1, 1, 1]', '\\tpseudocount = 1', '\\tbatchfile = results/prefs/late_sorted_batchfile.csv', '\\tsummaryprefix = late-sorted-summary', '\\tno_corr = False', '\\tno_avg = False', '', 'INFO:dms2_batch_prefs:Parsing info from results/prefs/late_sorted_batchfile.csv', 'INFO:dms2_batch_prefs:Read the following sample information:', 'name,source,library,stage,sorted,pre,post,errpre,errpost', 'lib1-gDNA-late-sorted,gDNA,lib1,late,sorted,lib1-plasmid-noStage-notSorted,lib1-gDNA-late-sorted,wt-plasmid-noStage-notSorted,wt-gDNA-noStage-notSorted', 'lib2-gDNA-late-sorted,gDNA,lib2,late,sorted,lib2-plasmid-noStage-notSorted,lib2-gDNA-late-sorted,wt-plasmid-noStage-notSorted,wt-gDNA-noStage-notSorted', 'lib3-gDNA-late-sorted,gDNA,lib3,late,sorted,lib3-plasmid-noStage-notSorted,lib3-gDNA-late-sorted,wt-plasmid-noStage-notSorted,wt-gDNA-noStage-notSorted', '', '', 'INFO:dms2_batch_prefs:Running dms2_prefs on all samples...', 'INFO:dms2_batch_prefs:Completed runs of dms2_prefs.', '', 'INFO:dms2_batch_prefs:Plotting correlations to results/prefs/late-sorted-summary_prefscorr.pdf', '', '/fh/fast/bloom_j/software/miniconda3/envs/dms_tools2/lib/python3.7/site-packages/seaborn/axisgrid.py:1342: UserWarning: tight_layout: falling back to Agg renderer', '  fig.tight_layout(pad=layout_pad)', 'INFO:dms2_batch_prefs:Writing average preferences to results/prefs/late-sorted-summary_avgprefs.csv', '', 'INFO:dms2_batch_prefs:Successful completion of dms2_batch_prefs']\n",
      "Amino-acid preferences calculated for late sorted samples.\n"
     ]
    }
   ],
   "source": [
    "# Set up results dir\n",
    "prefs_dir = os.path.join(results_dir + 'prefs')\n",
    "os.makedirs(prefs_dir, exist_ok=True)\n",
    "\n",
    "# Params\n",
    "ncpus = 16\n",
    "use_existing = 'no'\n",
    "\n",
    "# Workg with each group so correlations can be viewed\n",
    "samples_iter = (samples\n",
    "                .query('library != \"wt\"')\n",
    "                .query('source != \"plasmid\"'))\n",
    "for stage in samples_iter['stage'].unique():\n",
    "    for sort_status in samples_iter.query(f'stage == \"{stage}\"')['sorted'].unique():\n",
    "        # Make samplesheet\n",
    "        batchfile = os.path.join(prefs_dir + '/' + f'{stage}_{sort_status}' + '_batchfile.csv')\n",
    "        # Code from Jesse to quickly automatically generate this.\n",
    "        batchfile_df = (\n",
    "            samples\n",
    "            .query(f'stage == \"{stage}\" and sorted == \"{sort_status}\"')\n",
    "            .query('library != \"wt\"')\n",
    "            .query('source != \"plasmid\"')\n",
    "            .assign(post=lambda x: x['name'])\n",
    "            .merge(samples.query('source == \"plasmid\"')\n",
    "                          .assign(pre=lambda x: x['name'])\n",
    "                          [['library', 'pre']],\n",
    "                   on=['library'], how='left', validate='many_to_one',\n",
    "                   )\n",
    "            [['name', 'source', 'library', 'stage', 'sorted', 'pre', 'post',]]\n",
    "            .assign(errpre='wt-plasmid-noStage-notSorted')\n",
    "            .merge(samples.query('library == \"wt\"')\n",
    "                          .assign(errpost=lambda x: x['name'])\n",
    "                          [['source', 'errpost']],\n",
    "                   on=['source'], how='left'\n",
    "                   )\n",
    "            )\n",
    "        assert batchfile_df.notnull().all().all()\n",
    "        display(batchfile_df)\n",
    "\n",
    "        print(f'Writing batchfile to {batchfile}')\n",
    "        batchfile_df.to_csv(batchfile, index=False)\n",
    "        print('Done.')\n",
    "        \n",
    "        # Run batch_prefs\n",
    "        log = ! dms2_batch_prefs \\\n",
    "                --batchfile {batchfile} \\\n",
    "                --summaryprefix {stage}-{sort_status}-summary \\\n",
    "                --method ratio \\\n",
    "                --indir {codon_counts_dir} \\\n",
    "                --outdir {prefs_dir} \\\n",
    "                --ncpus {ncpus} \\\n",
    "                --use_existing {use_existing} \\\n",
    "                --excludestop 'no'\n",
    "\n",
    "        print(log)\n",
    "\n",
    "        print(f\"Amino-acid preferences calculated for {stage} {sort_status} samples.\")\n"
   ]
  },
  {
   "cell_type": "markdown",
   "metadata": {},
   "source": [
    "Show correlations:"
   ]
  },
  {
   "cell_type": "code",
   "execution_count": 10,
   "metadata": {},
   "outputs": [
    {
     "name": "stdout",
     "output_type": "stream",
     "text": [
      "Correlation of AA preferences\n",
      "\n",
      "early notSorted\n"
     ]
    },
    {
     "data": {
      "image/png": "[encoded data removed]",
      "text/plain": [
       "<IPython.core.display.Image object>"
      ]
     },
     "metadata": {},
     "output_type": "display_data"
    },
    {
     "name": "stdout",
     "output_type": "stream",
     "text": [
      "Correlation of AA preferences\n",
      "\n",
      "mid notSorted\n"
     ]
    },
    {
     "data": {
      "image/png": "[encoded data removed]",
      "text/plain": [
       "<IPython.core.display.Image object>"
      ]
     },
     "metadata": {},
     "output_type": "display_data"
    },
    {
     "name": "stdout",
     "output_type": "stream",
     "text": [
      "Correlation of AA preferences\n",
      "\n",
      "late notSorted\n"
     ]
    },
    {
     "data": {
      "image/png": "[encoded data removed]",
      "text/plain": [
       "<IPython.core.display.Image object>"
      ]
     },
     "metadata": {},
     "output_type": "display_data"
    },
    {
     "name": "stdout",
     "output_type": "stream",
     "text": [
      "Correlation of AA preferences\n",
      "\n",
      "late sorted\n"
     ]
    },
    {
     "data": {
      "image/png": "[encoded data removed]",
      "text/plain": [
       "<IPython.core.display.Image object>"
      ]
     },
     "metadata": {},
     "output_type": "display_data"
    }
   ],
   "source": [
    "for stage in samples_iter['stage'].unique():\n",
    "    for sort_status in samples_iter.query(f'stage == \"{stage}\"')['sorted'].unique():\n",
    "        path = os.path.join(prefs_dir, f'{stage}-{sort_status}-summary_prefscorr.pdf')\n",
    "        print('Correlation of AA preferences\\n')\n",
    "        print(stage, sort_status)\n",
    "        showPDF(path)"
   ]
  },
  {
   "cell_type": "code",
   "execution_count": null,
   "metadata": {},
   "outputs": [],
   "source": []
  }
 ],
 "metadata": {
  "kernelspec": {
   "display_name": "Python 3",
   "language": "python",
   "name": "python3"
  },
  "language_info": {
   "codemirror_mode": {
    "name": "ipython",
    "version": 3
   },
   "file_extension": ".py",
   "mimetype": "text/x-python",
   "name": "python",
   "nbconvert_exporter": "python",
   "pygments_lexer": "ipython3",
   "version": "3.7.8"
  }
 },
 "nbformat": 4,
 "nbformat_minor": 5
}
